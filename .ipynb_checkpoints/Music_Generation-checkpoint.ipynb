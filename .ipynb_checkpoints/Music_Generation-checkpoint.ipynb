{
 "cells": [
  {
   "cell_type": "code",
   "execution_count": 1,
   "metadata": {
    "colab": {
     "base_uri": "https://localhost:8080/"
    },
    "id": "3AJF-ujFFjqV",
    "outputId": "1fcaf262-d180-47b2-bbb9-6488423f23ef"
   },
   "outputs": [
    {
     "name": "stdout",
     "output_type": "stream",
     "text": [
      "Requirement already satisfied: music21 in c:\\users\\zatch\\anaconda3\\lib\\site-packages (6.7.1)\n",
      "Requirement already satisfied: joblib in c:\\users\\zatch\\anaconda3\\lib\\site-packages (from music21) (1.0.1)\n",
      "Requirement already satisfied: chardet in c:\\users\\zatch\\anaconda3\\lib\\site-packages (from music21) (4.0.0)\n",
      "Requirement already satisfied: more-itertools in c:\\users\\zatch\\anaconda3\\lib\\site-packages (from music21) (8.7.0)\n",
      "Requirement already satisfied: webcolors in c:\\users\\zatch\\anaconda3\\lib\\site-packages (from music21) (1.11.1)\n"
     ]
    }
   ],
   "source": [
    "!pip install music21"
   ]
  },
  {
   "cell_type": "markdown",
   "metadata": {
    "id": "SlZgRdWsHFyu"
   },
   "source": [
    "# Step 1 --> Importing all th Required Libraries"
   ]
  },
  {
   "cell_type": "code",
   "execution_count": 11,
   "metadata": {
    "id": "vyYuYpKZGZQf"
   },
   "outputs": [],
   "source": [
    "import glob\n",
    "import pickle\n",
    "import numpy as np\n",
    "import pandas as pd\n",
    "from keras.utils import np_utils\n",
    "from sklearn.preprocessing import MinMaxScaler\n",
    "from keras.models import Sequential, load_model\n",
    "from music21 import converter, instrument, note, chord,stream\n",
    "from keras.layers import LSTM, Dense, Activation, Dropout\n",
    "from keras.callbacks import ModelCheckpoint, EarlyStopping"
   ]
  },
  {
   "cell_type": "markdown",
   "metadata": {
    "id": "WCCg_RPDIa6Y"
   },
   "source": [
    "# Step 2 --> **Preprocessing The File**"
   ]
  },
  {
   "cell_type": "code",
   "execution_count": 13,
   "metadata": {
    "colab": {
     "base_uri": "https://localhost:8080/"
    },
    "id": "yoZSWeDaHdii",
    "outputId": "fbb3e102-1e62-45ed-aee9-bc428baf9f39"
   },
   "outputs": [
    {
     "name": "stdout",
     "output_type": "stream",
     "text": [
      "Parsing the midi_songs\\0fithos.mid\n",
      "Parsing the midi_songs\\8.mid\n",
      "Parsing the midi_songs\\ahead_on_our_way_piano.mid\n",
      "Parsing the midi_songs\\AT.mid\n",
      "Parsing the midi_songs\\balamb.mid\n",
      "Parsing the midi_songs\\bcm.mid\n",
      "Parsing the midi_songs\\BlueStone_LastDungeon.mid\n",
      "Parsing the midi_songs\\braska.mid\n",
      "Parsing the midi_songs\\caitsith.mid\n",
      "Parsing the midi_songs\\Cids.mid\n",
      "Parsing the midi_songs\\cosmo.mid\n",
      "Parsing the midi_songs\\costadsol.mid\n",
      "Parsing the midi_songs\\dayafter.mid\n",
      "Parsing the midi_songs\\decisive.mid\n",
      "Parsing the midi_songs\\dontbeafraid.mid\n",
      "Parsing the midi_songs\\DOS.mid\n",
      "Parsing the midi_songs\\electric_de_chocobo.mid\n",
      "Parsing the midi_songs\\Eternal_Harvest.mid\n",
      "Parsing the midi_songs\\EyesOnMePiano.mid\n",
      "Parsing the midi_songs\\ff11_awakening_piano.mid\n",
      "Parsing the midi_songs\\ff1battp.mid\n",
      "Parsing the midi_songs\\FF3_Battle_(Piano).mid\n",
      "Parsing the midi_songs\\FF3_Third_Phase_Final_(Piano).mid\n",
      "Parsing the midi_songs\\ff4-airship.mid\n",
      "Parsing the midi_songs\\Ff4-BattleLust.mid\n",
      "Parsing the midi_songs\\ff4-fight1.mid\n",
      "Parsing the midi_songs\\ff4-town.mid\n",
      "Parsing the midi_songs\\FF4.mid\n",
      "Parsing the midi_songs\\ff4pclov.mid\n",
      "Parsing the midi_songs\\ff4_piano_collections-main_theme.mid\n",
      "Parsing the midi_songs\\FF6epitaph_piano.mid\n",
      "Parsing the midi_songs\\ff6shap.mid\n",
      "Parsing the midi_songs\\Ff7-Cinco.mid\n",
      "Parsing the midi_songs\\Ff7-Jenova_Absolute.mid\n",
      "Parsing the midi_songs\\ff7-mainmidi.mid\n",
      "Parsing the midi_songs\\Ff7-One_Winged.mid\n",
      "Parsing the midi_songs\\ff7themep.mid\n",
      "Parsing the midi_songs\\ff8-lfp.mid\n",
      "Parsing the midi_songs\\FF8_Shuffle_or_boogie_pc.mid\n",
      "Parsing the midi_songs\\FFIII_Edgar_And_Sabin_Piano.mid\n",
      "Parsing the midi_songs\\FFIXQuMarshP.mid\n",
      "Parsing the midi_songs\\FFIX_Piano.mid\n",
      "Parsing the midi_songs\\FFVII_BATTLE.mid\n",
      "Parsing the midi_songs\\FFX_-_Ending_Theme_(Piano_Version)_-_by_Angel_FF.mid\n",
      "Parsing the midi_songs\\Fiend_Battle_(Piano).mid\n",
      "Parsing the midi_songs\\Fierce_Battle_(Piano).mid\n",
      "Parsing the midi_songs\\figaro.mid\n",
      "Parsing the midi_songs\\Finalfantasy5gilgameshp.mid\n",
      "Parsing the midi_songs\\Finalfantasy6fanfarecomplete.mid\n",
      "Parsing the midi_songs\\Final_Fantasy_7_-_Judgement_Day_Piano.mid\n",
      "Parsing the midi_songs\\Final_Fantasy_Matouyas_Cave_Piano.mid\n",
      "Parsing the midi_songs\\fortresscondor.mid\n",
      "Parsing the midi_songs\\Fyw_piano.mid\n",
      "Parsing the midi_songs\\gerudo.mid\n",
      "Parsing the midi_songs\\goldsaucer.mid\n",
      "Parsing the midi_songs\\Gold_Silver_Rival_Battle.mid\n",
      "Parsing the midi_songs\\great_war.mid\n",
      "Parsing the midi_songs\\HighwindTakestotheSkies.mid\n",
      "Parsing the midi_songs\\In_Zanarkand.mid\n",
      "Parsing the midi_songs\\JENOVA.mid\n",
      "Parsing the midi_songs\\Kingdom_Hearts_Dearly_Beloved.mid\n",
      "Parsing the midi_songs\\Kingdom_Hearts_Traverse_Town.mid\n",
      "Parsing the midi_songs\\Life_Stream.mid\n",
      "Parsing the midi_songs\\lurk_in_dark.mid\n",
      "Parsing the midi_songs\\mining.mid\n",
      "Parsing the midi_songs\\Oppressed.mid\n",
      "Parsing the midi_songs\\OTD5YA.mid\n",
      "Parsing the midi_songs\\path_of_repentance.mid\n",
      "Parsing the midi_songs\\pkelite4.mid\n",
      "Parsing the midi_songs\\Rachel_Piano_tempofix.mid\n",
      "Parsing the midi_songs\\redwings.mid\n",
      "Parsing the midi_songs\\relmstheme-piano.mid\n",
      "Parsing the midi_songs\\roseofmay-piano.mid\n",
      "Parsing the midi_songs\\rufus.mid\n",
      "Parsing the midi_songs\\Rydia_pc.mid\n",
      "Parsing the midi_songs\\sandy.mid\n",
      "Parsing the midi_songs\\sera_.mid\n",
      "Parsing the midi_songs\\sobf.mid\n",
      "Parsing the midi_songs\\Still_Alive-1.mid\n",
      "Parsing the midi_songs\\Suteki_Da_Ne_(Piano_Version).mid\n",
      "Parsing the midi_songs\\thenightmarebegins.mid\n",
      "Parsing the midi_songs\\thoughts.mid\n",
      "Parsing the midi_songs\\tifap.mid\n",
      "Parsing the midi_songs\\tpirtsd-piano.mid\n",
      "Parsing the midi_songs\\traitor.mid\n",
      "Parsing the midi_songs\\ultimafro.mid\n",
      "Parsing the midi_songs\\ultros.mid\n",
      "Parsing the midi_songs\\VincentPiano.mid\n",
      "Parsing the midi_songs\\ViviinAlexandria.mid\n",
      "Parsing the midi_songs\\waltz_de_choco.mid\n",
      "Parsing the midi_songs\\Zelda_Overworld.mid\n",
      "Parsing the midi_songs\\z_aeristhemepiano.mid\n"
     ]
    }
   ],
   "source": [
    "notes = []\n",
    "\n",
    "for file in glob.glob(\"midi_songs/*.mid\"):\n",
    "    midi = converter.parse(file)\n",
    "    print(f'Parsing the {file}')\n",
    "  \n",
    "    element_to_parse = midi.flat.notes\n",
    "    \n",
    "    for ele in element_to_parse:\n",
    "  \n",
    "      # if the element is Note\n",
    "       if isinstance(ele , note.Note):\n",
    "            notes.append(str(ele.pitch))\n",
    "  \n",
    "       elif isinstance(ele,chord.Chord):\n",
    "            notes.append(\"+\".join(str(n) for n in ele.normalOrder))"
   ]
  },
  {
   "cell_type": "code",
   "execution_count": 14,
   "metadata": {
    "colab": {
     "base_uri": "https://localhost:8080/"
    },
    "id": "Lwbag0JzH9Nt",
    "outputId": "9d274ab3-b0e0-4f8e-8894-b060855da61c"
   },
   "outputs": [
    {
     "data": {
      "text/plain": [
       "60866"
      ]
     },
     "execution_count": 14,
     "metadata": {},
     "output_type": "execute_result"
    }
   ],
   "source": [
    "len(notes)"
   ]
  },
  {
   "cell_type": "code",
   "execution_count": 15,
   "metadata": {
    "id": "vSxv5qAlSvnG"
   },
   "outputs": [],
   "source": [
    "n_vocab = len(set(notes))"
   ]
  },
  {
   "cell_type": "markdown",
   "metadata": {
    "id": "4g0REC81LtGH"
   },
   "source": [
    "# Step 3 --> **Saving the file in the current directory for future use and after saving we will open it again**"
   ]
  },
  {
   "cell_type": "code",
   "execution_count": 16,
   "metadata": {
    "id": "avR8ubixLx-R"
   },
   "outputs": [],
   "source": [
    "with open('notes','wb') as filepath:\n",
    "    pickle.dump(notes , filepath)"
   ]
  },
  {
   "cell_type": "code",
   "execution_count": 17,
   "metadata": {
    "id": "_vsS7VW9Mhpr"
   },
   "outputs": [],
   "source": [
    "with open('notes','rb') as f:\n",
    "    notes = pickle.load(f)"
   ]
  },
  {
   "cell_type": "markdown",
   "metadata": {
    "id": "qQBEPu4tNEt1"
   },
   "source": [
    "# Step 4 --> **Prepraring Sequential Data for LSTM**"
   ]
  },
  {
   "cell_type": "code",
   "execution_count": 18,
   "metadata": {
    "colab": {
     "base_uri": "https://localhost:8080/"
    },
    "id": "gAT0PKvgNRkg",
    "outputId": "b0190eaa-7f28-46eb-bc23-ab82255d74b6"
   },
   "outputs": [
    {
     "name": "stdout",
     "output_type": "stream",
     "text": [
      "(60766, 100, 1)\n",
      "(60766, 359)\n"
     ]
    }
   ],
   "source": [
    "# How many element LSTM input should consider\n",
    "sequence_length = 100\n",
    "\n",
    "# with this I can make my ele_to_int and viceversa\n",
    "pitchName = sorted(set(notes))\n",
    "\n",
    "# creating a mapping \n",
    "# jaise kisi particular note or chord ke liye kya number use kr skte h uski jagah\n",
    "# because model to numbers lega aur hamare music chord or note to strings hai \n",
    "ele_to_int = dict((ele , idx) for idx,ele in enumerate(pitchName))\n",
    "\n",
    "\n",
    "network_input = [] # ye list of chords and notes hai but in numerical form just like x_train\n",
    "network_output = [] # ye list of chords and notes hai but in numerical form just like y_train \n",
    "\n",
    "for i in range(len(notes) - sequence_length):\n",
    "    seq_in = notes[i:i+sequence_length]\n",
    "    seq_out = notes[i+sequence_length]\n",
    "  \n",
    "    network_input.append([ele_to_int[note] for note in seq_in])\n",
    "    network_output.append(ele_to_int[seq_out])\n",
    "\n",
    "\n",
    "# No. of Example\n",
    "n_pattern = len(network_input)\n",
    "\n",
    "\n",
    "# since network_input is in list format so hume isko pehle numpy arry me convert krna hoga\n",
    "# reshape krenege is format me (row * columns * 1) = (60398 * 100 * 1)\n",
    "# 1 basically isliye add kr rhe h kyuki Lstm model jo hai wo 3d accept krta hai thats why we are adding this.\n",
    "network_input = np.reshape(network_input,(n_pattern , sequence_length))\n",
    "\n",
    "# noramlized bhi krna hai because hamara network_input ke elements ki value 0-359 ke beech hai so hum isko\n",
    "# normalized = network_input / len(n_vocab) \n",
    "# but we are doing this with the help of MinMaxScaler()\n",
    "sc = MinMaxScaler()\n",
    "normalized_network_input = sc.fit_transform(network_input)\n",
    "normalized_network_input = np.reshape(normalized_network_input,(n_pattern , sequence_length ,1))\n",
    "\n",
    "network_output = np_utils.to_categorical(network_output)\n",
    "\n",
    "print(normalized_network_input.shape)\n",
    "print(network_output.shape)"
   ]
  },
  {
   "cell_type": "markdown",
   "metadata": {
    "id": "YSrB1saVNV2W"
   },
   "source": [
    "# Step 5 --> **Creating The Model**\n",
    "\n",
    "\n"
   ]
  },
  {
   "cell_type": "code",
   "execution_count": 19,
   "metadata": {
    "colab": {
     "base_uri": "https://localhost:8080/"
    },
    "id": "fyUbKwsiSUmk",
    "outputId": "ee42028c-ea99-4231-dc03-a06b2a22f04e"
   },
   "outputs": [
    {
     "name": "stdout",
     "output_type": "stream",
     "text": [
      "Model: \"sequential\"\n",
      "_________________________________________________________________\n",
      "Layer (type)                 Output Shape              Param #   \n",
      "=================================================================\n",
      "lstm (LSTM)                  (None, 100, 512)          1052672   \n",
      "_________________________________________________________________\n",
      "dropout (Dropout)            (None, 100, 512)          0         \n",
      "_________________________________________________________________\n",
      "lstm_1 (LSTM)                (None, 100, 512)          2099200   \n",
      "_________________________________________________________________\n",
      "dropout_1 (Dropout)          (None, 100, 512)          0         \n",
      "_________________________________________________________________\n",
      "lstm_2 (LSTM)                (None, 512)               2099200   \n",
      "_________________________________________________________________\n",
      "dense (Dense)                (None, 256)               131328    \n",
      "_________________________________________________________________\n",
      "dropout_2 (Dropout)          (None, 256)               0         \n",
      "_________________________________________________________________\n",
      "dense_1 (Dense)              (None, 359)               92263     \n",
      "_________________________________________________________________\n",
      "activation (Activation)      (None, 359)               0         \n",
      "=================================================================\n",
      "Total params: 5,474,663\n",
      "Trainable params: 5,474,663\n",
      "Non-trainable params: 0\n",
      "_________________________________________________________________\n"
     ]
    }
   ],
   "source": [
    "model = Sequential()\n",
    "model.add(LSTM(512 , input_shape = (normalized_network_input.shape[1],normalized_network_input.shape[2]),return_sequences=True))\n",
    "model.add(Dropout(0.3))\n",
    "model.add(LSTM(512 , return_sequences=True))\n",
    "model.add(Dropout(0.3))\n",
    "model.add(LSTM(512))\n",
    "model.add(Dense(256))\n",
    "model.add(Dropout(0.3))\n",
    "model.add(Dense(n_vocab))\n",
    "model.add(Activation('softmax'))\n",
    "\n",
    "\n",
    "\n",
    "# Compiling The model\n",
    "model.compile(loss = \"categorical_crossentropy\",optimizer = \"rmsprop\")\n",
    "\n",
    "# Summary\n",
    "model.summary()"
   ]
  },
  {
   "cell_type": "code",
   "execution_count": 20,
   "metadata": {
    "id": "fPgwpv1OX_-G"
   },
   "outputs": [],
   "source": [
    "checkpoint = ModelCheckpoint(\"model.hdf5\",\n",
    "                             monitor = 'loss',\n",
    "                             verbose = 1,\n",
    "                             save_best_only = True,\n",
    "                             mode = 'min',\n",
    "                             )\n",
    "callbacks_list = [checkpoint]\n",
    "\n",
    "# model_hist = model.fit(normalized_network_input , network_output , epochs = 200 , batch_size=64, callbacks=callbacks_list)"
   ]
  },
  {
   "cell_type": "code",
   "execution_count": 21,
   "metadata": {
    "id": "-nVMkQZMZb6m"
   },
   "outputs": [],
   "source": [
    "model = load_model(\"new_weights.hdf5\")"
   ]
  },
  {
   "cell_type": "markdown",
   "metadata": {
    "id": "zTtI7hTkZdcM"
   },
   "source": [
    "# Step 6 --> **Prediction**"
   ]
  },
  {
   "cell_type": "code",
   "execution_count": 22,
   "metadata": {
    "id": "wOaTP135tmlH"
   },
   "outputs": [],
   "source": [
    "# we will require the list of Network_input again but our previous network_input converted into np.array\n",
    "\n",
    "sequence_length =100\n",
    "network_input = []\n",
    "\n",
    "for i in range(len(notes)-sequence_length):\n",
    "    seq_in = notes[i:i+sequence_length]\n",
    "    network_input.append([ele_to_int[ch] for ch in seq_in])\n",
    "\n",
    "# now we will require the int_to_ele ab hume wapas se apna chord or notes chahiye\n",
    "int_to_ele = dict((idx , ele) for idx , ele in enumerate(pitchName))\n",
    "\n",
    "# Initialising the start means ki start koi bhi random value ho skti hai 60000 data points me se\n",
    "start = np.random.randint(len(network_input)-1) "
   ]
  },
  {
   "cell_type": "code",
   "execution_count": 23,
   "metadata": {
    "id": "Czfx1jBsvvt_"
   },
   "outputs": [],
   "source": [
    "pattern = network_input[start]\n",
    "prediction_output = []\n",
    "\n",
    "for i in range(200):\n",
    "    prediction_input = np.reshape(pattern , (1,len(pattern),1))\n",
    "    prediction_input = prediction_input/float(n_vocab)\n",
    "    prediction = model.predict(prediction_input)\n",
    "  \n",
    "    idx = np.argmax(prediction)\n",
    "    result = int_to_ele[idx]\n",
    "    prediction_output.append(result)\n",
    "    pattern.append(idx)\n",
    "    pattern = pattern[1:]"
   ]
  },
  {
   "cell_type": "code",
   "execution_count": 24,
   "metadata": {
    "colab": {
     "base_uri": "https://localhost:8080/"
    },
    "id": "WnL8kOwjdED2",
    "outputId": "e76ae610-7ccc-4820-bfc4-946f5be627d9"
   },
   "outputs": [
    {
     "data": {
      "text/plain": [
       "['5+7+0',\n",
       " '7',\n",
       " '7',\n",
       " '7',\n",
       " '2+4+8',\n",
       " '7',\n",
       " '7',\n",
       " '4+7+10',\n",
       " '7',\n",
       " '7',\n",
       " '7',\n",
       " '7',\n",
       " '7',\n",
       " '7',\n",
       " '7',\n",
       " 'C5',\n",
       " '7',\n",
       " 'C5',\n",
       " '7',\n",
       " 'D5',\n",
       " '7',\n",
       " 'E-5',\n",
       " '7',\n",
       " 'F5',\n",
       " '7+8+0+3',\n",
       " '7',\n",
       " '7',\n",
       " '7',\n",
       " '7',\n",
       " '7',\n",
       " '7',\n",
       " '5+8+0',\n",
       " '7',\n",
       " '7',\n",
       " '7',\n",
       " '7',\n",
       " '8+0+3',\n",
       " '7',\n",
       " '7',\n",
       " '7',\n",
       " 'G3',\n",
       " '2+7+8',\n",
       " 'G3',\n",
       " '7',\n",
       " '2+7+8',\n",
       " '7',\n",
       " '2+7+8',\n",
       " '7',\n",
       " '2+7+8',\n",
       " '7',\n",
       " '2+7+8',\n",
       " '7',\n",
       " '2+7+8',\n",
       " '7',\n",
       " '2+7+8',\n",
       " '7',\n",
       " '2+5+7+10',\n",
       " '7',\n",
       " '2+5+7+10',\n",
       " '7',\n",
       " '1+4+7+9',\n",
       " '7',\n",
       " '1+4+7+9',\n",
       " '1+4+7+9',\n",
       " '7',\n",
       " '0+3+7',\n",
       " '0+3+7',\n",
       " '7',\n",
       " '0+3+7',\n",
       " '2+7+8',\n",
       " '7',\n",
       " '2+7+8',\n",
       " '7',\n",
       " '2+7+8',\n",
       " '7',\n",
       " '2+7+8',\n",
       " '7',\n",
       " '2+7+8',\n",
       " '7',\n",
       " '2+7+8',\n",
       " '7',\n",
       " '2+7+8',\n",
       " '7',\n",
       " '2+5+7+10',\n",
       " '7',\n",
       " '2+5+7+10',\n",
       " '7',\n",
       " '2+5+7+10',\n",
       " '7',\n",
       " '1+4+7+9',\n",
       " '7',\n",
       " '1+4+7+9',\n",
       " '1+4+7+9',\n",
       " '7',\n",
       " '0+3+7',\n",
       " '0+3+7',\n",
       " '7',\n",
       " '0+3+7',\n",
       " 'G4']"
      ]
     },
     "execution_count": 24,
     "metadata": {},
     "output_type": "execute_result"
    }
   ],
   "source": [
    "prediction_output[1:100]"
   ]
  },
  {
   "cell_type": "code",
   "execution_count": 25,
   "metadata": {
    "colab": {
     "base_uri": "https://localhost:8080/"
    },
    "id": "gIw3jzgmxgCB",
    "outputId": "956363b6-5c71-491a-b2ea-03b46039c8b2"
   },
   "outputs": [
    {
     "data": {
      "text/plain": [
       "200"
      ]
     },
     "execution_count": 25,
     "metadata": {},
     "output_type": "execute_result"
    }
   ],
   "source": [
    "len(prediction_output)"
   ]
  },
  {
   "cell_type": "code",
   "execution_count": 26,
   "metadata": {
    "id": "ZjEvYIJrxi9Q"
   },
   "outputs": [],
   "source": [
    "# Step 7 --> Creating Midi File"
   ]
  },
  {
   "cell_type": "code",
   "execution_count": 27,
   "metadata": {
    "id": "hSjAnW8ZxrqY"
   },
   "outputs": [],
   "source": [
    "offset = 0\n",
    "output_notes = []\n",
    "\n",
    "for pattern in prediction_output:\n",
    "    if ('+' in pattern) or pattern.isdigit():\n",
    "        notes = pattern.split('+')\n",
    "        temp_notes = []\n",
    "        for noted in notes:\n",
    "            notes = note.Note(int(noted))\n",
    "            notes.storedInstrument = instrument.Piano()\n",
    "            temp_notes.append(notes)\n",
    "\n",
    "        new_chord = chord.Chord(temp_notes)\n",
    "        new_chord.offset = offset\n",
    "        output_notes.append(new_chord)\n",
    "    else:\n",
    "        newnote = note.Note(pattern)\n",
    "        newnote.offset = offset\n",
    "        newnote.storedInstrument = instrument.Piano()\n",
    "        output_notes.append(newnote)\n",
    "\n",
    "\n",
    "    offset += 0.5"
   ]
  },
  {
   "cell_type": "code",
   "execution_count": 28,
   "metadata": {
    "colab": {
     "base_uri": "https://localhost:8080/"
    },
    "id": "89bzqDwZigXs",
    "outputId": "40a75b1d-6bfe-4355-ec1f-ef949ff3a6eb"
   },
   "outputs": [
    {
     "data": {
      "text/plain": [
       "<music21.chord.Chord F G C>"
      ]
     },
     "execution_count": 28,
     "metadata": {},
     "output_type": "execute_result"
    }
   ],
   "source": [
    "output_notes[1]"
   ]
  },
  {
   "cell_type": "code",
   "execution_count": 29,
   "metadata": {
    "colab": {
     "base_uri": "https://localhost:8080/",
     "height": 35
    },
    "id": "dd770xsZj2WT",
    "outputId": "129cb481-26d6-4cba-a5d6-90066022899e"
   },
   "outputs": [
    {
     "data": {
      "text/plain": [
       "'test_output.mid'"
      ]
     },
     "execution_count": 29,
     "metadata": {},
     "output_type": "execute_result"
    }
   ],
   "source": [
    "midi_stream = stream.Stream(output_notes)\n",
    "midi_stream.write('midi', fp='test_output.mid')"
   ]
  },
  {
   "cell_type": "code",
   "execution_count": 36,
   "metadata": {
    "colab": {
     "base_uri": "https://localhost:8080/",
     "height": 17
    },
    "id": "twxQmtnm3vKk",
    "outputId": "8dccde00-9fc2-490d-9558-6d3321a439eb"
   },
   "outputs": [
    {
     "data": {
      "text/html": [
       "\n",
       "                <div id='midiPlayerDiv494021'></div>\n",
       "                <link rel=\"stylesheet\" href=\"//cuthbertLab.github.io/music21j/css/m21.css\"\n",
       "                    type=\"text/css\" />\n",
       "                <script>\n",
       "                require.config({\n",
       "                    paths: {'music21': '//cuthbertLab.github.io/music21j/src/music21'}\n",
       "                });\n",
       "                require(['music21'], function() {\n",
       "                               mp = new music21.miditools.MidiPlayer();\n",
       "                               mp.addPlayer('#midiPlayerDiv494021');\n",
       "                               mp.base64Load('data:audio/midi;base64,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');\n",
       "                        });\n",
       "                </script>"
      ],
      "text/plain": [
       "<IPython.core.display.HTML object>"
      ]
     },
     "metadata": {},
     "output_type": "display_data"
    }
   ],
   "source": [
    "midi_stream.show('midi')"
   ]
  },
  {
   "cell_type": "markdown",
   "metadata": {},
   "source": [
    "# You can download the generated music here\n",
    "[Download](https://drive.google.com/drive/folders/1CqPQjhzOmZXry6-BiqVkLyLTvMvv_gUe?usp=sharing)"
   ]
  },
  {
   "cell_type": "code",
   "execution_count": null,
   "metadata": {},
   "outputs": [],
   "source": []
  }
 ],
 "metadata": {
  "accelerator": "TPU",
  "colab": {
   "name": "Music_Generation.ipynb",
   "provenance": [],
   "toc_visible": true
  },
  "kernelspec": {
   "display_name": "Python 3",
   "language": "python",
   "name": "python3"
  },
  "language_info": {
   "codemirror_mode": {
    "name": "ipython",
    "version": 3
   },
   "file_extension": ".py",
   "mimetype": "text/x-python",
   "name": "python",
   "nbconvert_exporter": "python",
   "pygments_lexer": "ipython3",
   "version": "3.8.5"
  }
 },
 "nbformat": 4,
 "nbformat_minor": 1
}
